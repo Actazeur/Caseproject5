{
 "cells": [
  {
   "cell_type": "code",
   "execution_count": 14,
   "metadata": {},
   "outputs": [],
   "source": [
    "import sklearn as sk\n",
    "import pandas as pd\n",
    "from sklearn.metrics import mean_squared_error\n",
    "from math import sqrt\n",
    "from sklearn.ensemble import RandomForestRegressor, RandomForestClassifier\n",
    "import numpy as np\n",
    "import matplotlib.pyplot as plt\n"
   ]
  },
  {
   "cell_type": "code",
   "execution_count": null,
   "metadata": {},
   "outputs": [],
   "source": []
  },
  {
   "cell_type": "code",
   "execution_count": 15,
   "metadata": {},
   "outputs": [],
   "source": [
    "def RMSE(y_pred, y_actual):\n",
    "    mse = mean_squared_error(y_actual, y_pred)\n",
    "    rmse = sqrt(mse)\n",
    "    return rmse"
   ]
  },
  {
   "cell_type": "code",
   "execution_count": 16,
   "metadata": {},
   "outputs": [],
   "source": [
    "def split(dataframe, split = 0.7, seed=0):\n",
    "    np.random.seed(seed)\n",
    "    rand = np.random.rand(len(data_df)) < split\n",
    "    \n",
    "    train = dataframe[rand]\n",
    "    test = dataframe[~rand]\n",
    "    \n",
    "    return train, test"
   ]
  },
  {
   "cell_type": "code",
   "execution_count": 17,
   "metadata": {},
   "outputs": [],
   "source": [
    "rtr = RandomForestRegressor(n_estimators = 100, random_state = 10, max_depth = 6)"
   ]
  },
  {
   "cell_type": "code",
   "execution_count": 18,
   "metadata": {},
   "outputs": [
    {
     "data": {
      "text/html": [
       "<div>\n",
       "<style scoped>\n",
       "    .dataframe tbody tr th:only-of-type {\n",
       "        vertical-align: middle;\n",
       "    }\n",
       "\n",
       "    .dataframe tbody tr th {\n",
       "        vertical-align: top;\n",
       "    }\n",
       "\n",
       "    .dataframe thead th {\n",
       "        text-align: right;\n",
       "    }\n",
       "</style>\n",
       "<table border=\"1\" class=\"dataframe\">\n",
       "  <thead>\n",
       "    <tr style=\"text-align: right;\">\n",
       "      <th></th>\n",
       "      <th>Unnamed: 0</th>\n",
       "      <th>FT-14A</th>\n",
       "      <th>LT-15</th>\n",
       "      <th>LT-17</th>\n",
       "      <th>LT-18</th>\n",
       "      <th>FT-14B</th>\n",
       "      <th>GammaDensity</th>\n",
       "      <th>FT-20A</th>\n",
       "      <th>FT-20C</th>\n",
       "      <th>TT-13</th>\n",
       "      <th>PT-11</th>\n",
       "      <th>PDT-12</th>\n",
       "    </tr>\n",
       "  </thead>\n",
       "  <tbody>\n",
       "    <tr>\n",
       "      <th>0</th>\n",
       "      <td>0</td>\n",
       "      <td>269.30</td>\n",
       "      <td>69.63</td>\n",
       "      <td>67.31</td>\n",
       "      <td>45.35</td>\n",
       "      <td>1143.37</td>\n",
       "      <td>1.22</td>\n",
       "      <td>1143.37</td>\n",
       "      <td>2.45</td>\n",
       "      <td>18.63</td>\n",
       "      <td>0.48</td>\n",
       "      <td>4.98</td>\n",
       "    </tr>\n",
       "    <tr>\n",
       "      <th>2</th>\n",
       "      <td>2</td>\n",
       "      <td>269.30</td>\n",
       "      <td>69.63</td>\n",
       "      <td>67.31</td>\n",
       "      <td>45.35</td>\n",
       "      <td>1143.37</td>\n",
       "      <td>1.22</td>\n",
       "      <td>1143.37</td>\n",
       "      <td>2.45</td>\n",
       "      <td>18.63</td>\n",
       "      <td>0.48</td>\n",
       "      <td>4.98</td>\n",
       "    </tr>\n",
       "    <tr>\n",
       "      <th>3</th>\n",
       "      <td>3</td>\n",
       "      <td>269.30</td>\n",
       "      <td>69.63</td>\n",
       "      <td>67.31</td>\n",
       "      <td>45.35</td>\n",
       "      <td>1143.37</td>\n",
       "      <td>1.22</td>\n",
       "      <td>1143.37</td>\n",
       "      <td>2.45</td>\n",
       "      <td>18.63</td>\n",
       "      <td>0.48</td>\n",
       "      <td>4.98</td>\n",
       "    </tr>\n",
       "    <tr>\n",
       "      <th>4</th>\n",
       "      <td>4</td>\n",
       "      <td>269.30</td>\n",
       "      <td>69.63</td>\n",
       "      <td>67.31</td>\n",
       "      <td>45.35</td>\n",
       "      <td>1143.37</td>\n",
       "      <td>1.22</td>\n",
       "      <td>1143.37</td>\n",
       "      <td>2.45</td>\n",
       "      <td>18.63</td>\n",
       "      <td>0.48</td>\n",
       "      <td>4.98</td>\n",
       "    </tr>\n",
       "    <tr>\n",
       "      <th>5</th>\n",
       "      <td>5</td>\n",
       "      <td>269.30</td>\n",
       "      <td>69.63</td>\n",
       "      <td>67.31</td>\n",
       "      <td>45.35</td>\n",
       "      <td>1143.37</td>\n",
       "      <td>1.22</td>\n",
       "      <td>1143.37</td>\n",
       "      <td>2.45</td>\n",
       "      <td>18.63</td>\n",
       "      <td>0.48</td>\n",
       "      <td>4.98</td>\n",
       "    </tr>\n",
       "    <tr>\n",
       "      <th>...</th>\n",
       "      <td>...</td>\n",
       "      <td>...</td>\n",
       "      <td>...</td>\n",
       "      <td>...</td>\n",
       "      <td>...</td>\n",
       "      <td>...</td>\n",
       "      <td>...</td>\n",
       "      <td>...</td>\n",
       "      <td>...</td>\n",
       "      <td>...</td>\n",
       "      <td>...</td>\n",
       "      <td>...</td>\n",
       "    </tr>\n",
       "    <tr>\n",
       "      <th>4432</th>\n",
       "      <td>4432</td>\n",
       "      <td>253.19</td>\n",
       "      <td>64.48</td>\n",
       "      <td>68.28</td>\n",
       "      <td>42.95</td>\n",
       "      <td>1145.02</td>\n",
       "      <td>1.21</td>\n",
       "      <td>1145.02</td>\n",
       "      <td>2.01</td>\n",
       "      <td>20.15</td>\n",
       "      <td>0.48</td>\n",
       "      <td>5.22</td>\n",
       "    </tr>\n",
       "    <tr>\n",
       "      <th>4434</th>\n",
       "      <td>4434</td>\n",
       "      <td>252.97</td>\n",
       "      <td>64.41</td>\n",
       "      <td>68.22</td>\n",
       "      <td>42.94</td>\n",
       "      <td>1145.02</td>\n",
       "      <td>1.21</td>\n",
       "      <td>1145.02</td>\n",
       "      <td>2.01</td>\n",
       "      <td>20.15</td>\n",
       "      <td>0.48</td>\n",
       "      <td>5.22</td>\n",
       "    </tr>\n",
       "    <tr>\n",
       "      <th>4435</th>\n",
       "      <td>4435</td>\n",
       "      <td>252.86</td>\n",
       "      <td>64.37</td>\n",
       "      <td>68.19</td>\n",
       "      <td>42.93</td>\n",
       "      <td>1145.02</td>\n",
       "      <td>1.21</td>\n",
       "      <td>1145.02</td>\n",
       "      <td>2.01</td>\n",
       "      <td>20.15</td>\n",
       "      <td>0.48</td>\n",
       "      <td>5.21</td>\n",
       "    </tr>\n",
       "    <tr>\n",
       "      <th>4436</th>\n",
       "      <td>4436</td>\n",
       "      <td>252.75</td>\n",
       "      <td>64.33</td>\n",
       "      <td>68.16</td>\n",
       "      <td>42.93</td>\n",
       "      <td>1145.02</td>\n",
       "      <td>1.21</td>\n",
       "      <td>1145.02</td>\n",
       "      <td>2.01</td>\n",
       "      <td>20.15</td>\n",
       "      <td>0.48</td>\n",
       "      <td>5.21</td>\n",
       "    </tr>\n",
       "    <tr>\n",
       "      <th>4438</th>\n",
       "      <td>4438</td>\n",
       "      <td>252.55</td>\n",
       "      <td>64.25</td>\n",
       "      <td>68.11</td>\n",
       "      <td>42.91</td>\n",
       "      <td>1145.02</td>\n",
       "      <td>1.21</td>\n",
       "      <td>1145.02</td>\n",
       "      <td>2.01</td>\n",
       "      <td>20.15</td>\n",
       "      <td>0.48</td>\n",
       "      <td>5.20</td>\n",
       "    </tr>\n",
       "  </tbody>\n",
       "</table>\n",
       "<p>3107 rows × 12 columns</p>\n",
       "</div>"
      ],
      "text/plain": [
       "      Unnamed: 0  FT-14A  LT-15  LT-17  LT-18   FT-14B  GammaDensity   FT-20A  \\\n",
       "0              0  269.30  69.63  67.31  45.35  1143.37          1.22  1143.37   \n",
       "2              2  269.30  69.63  67.31  45.35  1143.37          1.22  1143.37   \n",
       "3              3  269.30  69.63  67.31  45.35  1143.37          1.22  1143.37   \n",
       "4              4  269.30  69.63  67.31  45.35  1143.37          1.22  1143.37   \n",
       "5              5  269.30  69.63  67.31  45.35  1143.37          1.22  1143.37   \n",
       "...          ...     ...    ...    ...    ...      ...           ...      ...   \n",
       "4432        4432  253.19  64.48  68.28  42.95  1145.02          1.21  1145.02   \n",
       "4434        4434  252.97  64.41  68.22  42.94  1145.02          1.21  1145.02   \n",
       "4435        4435  252.86  64.37  68.19  42.93  1145.02          1.21  1145.02   \n",
       "4436        4436  252.75  64.33  68.16  42.93  1145.02          1.21  1145.02   \n",
       "4438        4438  252.55  64.25  68.11  42.91  1145.02          1.21  1145.02   \n",
       "\n",
       "      FT-20C  TT-13  PT-11  PDT-12  \n",
       "0       2.45  18.63   0.48    4.98  \n",
       "2       2.45  18.63   0.48    4.98  \n",
       "3       2.45  18.63   0.48    4.98  \n",
       "4       2.45  18.63   0.48    4.98  \n",
       "5       2.45  18.63   0.48    4.98  \n",
       "...      ...    ...    ...     ...  \n",
       "4432    2.01  20.15   0.48    5.22  \n",
       "4434    2.01  20.15   0.48    5.22  \n",
       "4435    2.01  20.15   0.48    5.21  \n",
       "4436    2.01  20.15   0.48    5.21  \n",
       "4438    2.01  20.15   0.48    5.20  \n",
       "\n",
       "[3107 rows x 12 columns]"
      ]
     },
     "execution_count": 18,
     "metadata": {},
     "output_type": "execute_result"
    }
   ],
   "source": [
    "#read data from csv\n",
    "data_df = pd.read_csv('filtered_experiment4_fluid1.csv')\n",
    "\n",
    "data_train, data_test = split(data_df, split=0.7)\n",
    "\n",
    "#split data into test and train\n",
    "X_train = data_train.iloc[:, 2:5].values\n",
    "y_train = data_train.iloc[:, 1].values\n",
    "\n",
    "X_test = data_test.iloc[:, 2:5].values\n",
    "y_test = data_test.iloc[:, 1].values\n",
    "data_train"
   ]
  },
  {
   "cell_type": "code",
   "execution_count": 19,
   "metadata": {},
   "outputs": [
    {
     "data": {
      "text/plain": [
       "RandomForestRegressor(max_depth=6, random_state=10)"
      ]
     },
     "execution_count": 19,
     "metadata": {},
     "output_type": "execute_result"
    }
   ],
   "source": [
    "rtr.fit(X_train, y_train)"
   ]
  },
  {
   "cell_type": "code",
   "execution_count": 20,
   "metadata": {},
   "outputs": [],
   "source": [
    "predictions = rtr.predict(X_test)\n",
    "y_train_pred = rtr.predict(X_train)"
   ]
  },
  {
   "cell_type": "code",
   "execution_count": 21,
   "metadata": {},
   "outputs": [
    {
     "name": "stdout",
     "output_type": "stream",
     "text": [
      "RMSE Test: 0.77\n",
      "RMSE Train: 0.65\n",
      "Train Accuracy: 100.0% Test Accuracy: 100.0%\n"
     ]
    }
   ],
   "source": [
    "rmse_test = RMSE(predictions, y_test)\n",
    "rmse_train = RMSE(y_train_pred, y_train)\n",
    "\n",
    "print(f'RMSE Test: {round(rmse_test,2)}')\n",
    "print(f'RMSE Train: {round(rmse_train,2)}')\n",
    "\n",
    "score_train = rtr.score(X_train, y_train)\n",
    "score_test = rtr.score(X_test, y_test)\n",
    "\n",
    "print(f'Train Accuracy: {round(score_train,2)*100}% Test Accuracy: {round(score_test,2)*100}%')"
   ]
  },
  {
   "cell_type": "code",
   "execution_count": 22,
   "metadata": {},
   "outputs": [
    {
     "data": {
      "image/png": "[encoded data removed]",
      "text/plain": [
       "<Figure size 432x288 with 1 Axes>"
      ]
     },
     "metadata": {
      "needs_background": "light"
     },
     "output_type": "display_data"
    }
   ],
   "source": [
    "plt.plot(y_test, label = 'Real flow', color='blue')\n",
    "plt.plot(predictions, label = 'Predicted flow', color='red')\n",
    "plt.ylabel('Flow [kg/min]')\n",
    "\n",
    "plt.legend()\n",
    "plt.show()"
   ]
  },
  {
   "cell_type": "code",
   "execution_count": 23,
   "metadata": {},
   "outputs": [],
   "source": [
    "from sklearn.tree import export_graphviz\n",
    "import pydot"
   ]
  },
  {
   "cell_type": "code",
   "execution_count": 24,
   "metadata": {},
   "outputs": [],
   "source": [
    "feature_list = ['LT-15', 'LT-17', 'LT-18']"
   ]
  },
  {
   "cell_type": "code",
   "execution_count": 36,
   "metadata": {},
   "outputs": [
    {
     "data": {
      "text/plain": [
       "\"tree = rtr.estimators_[5]\\nexport_graphviz(tree, out_file='tree.dot',\\n               rounded=True, precision = 1)\\n\\n(graph, ) = pydot.graph_from_dot_file('tree.dot')\\ngraph.write_pdf('test.pdf')\""
      ]
     },
     "execution_count": 36,
     "metadata": {},
     "output_type": "execute_result"
    }
   ],
   "source": [
    "\"\"\"tree = rtr.estimators_[5]\n",
    "export_graphviz(tree, out_file='tree.dot',\n",
    "               rounded=True, precision = 1)\n",
    "\n",
    "(graph, ) = pydot.graph_from_dot_file('tree.dot')\n",
    "graph.write_pdf('test.pdf')\"\"\""
   ]
  },
  {
   "cell_type": "code",
   "execution_count": 26,
   "metadata": {},
   "outputs": [
    {
     "ename": "SyntaxError",
     "evalue": "(unicode error) 'unicodeescape' codec can't decode bytes in position 231-232: truncated \\UXXXXXXXX escape (<ipython-input-26-e3a3a64f9f42>, line 10)",
     "output_type": "error",
     "traceback": [
      "\u001b[1;36m  File \u001b[1;32m\"<ipython-input-26-e3a3a64f9f42>\"\u001b[1;36m, line \u001b[1;32m10\u001b[0m\n\u001b[1;33m    \"\"\"\u001b[0m\n\u001b[1;37m      ^\u001b[0m\n\u001b[1;31mSyntaxError\u001b[0m\u001b[1;31m:\u001b[0m (unicode error) 'unicodeescape' codec can't decode bytes in position 231-232: truncated \\UXXXXXXXX escape\n"
     ]
    }
   ],
   "source": [
    "# Limit depth of tree to 3 levels\n",
    "\"\"\"rf_small = RandomForestRegressor(n_estimators=10, max_depth = 3)\n",
    "rf_small.fit(x_train, y_train)\n",
    "# Extract the small tree\n",
    "tree_small = rf_small.estimators_[5]\n",
    "# Save the tree as a png image\n",
    "export_graphviz(tree_small, out_file = 'C:\\Users\\ole-1\\Desktop\\Hard sensors case project\\small_tree.dot', feature_names = feature_list, rounded = True, precision = 1)\n",
    "(graph, ) = pydot.graph_from_dot_file('small_tree.dot')\n",
    "graph.write_png('small_tree.png');\n",
    "\"\"\""
   ]
  },
  {
   "cell_type": "code",
   "execution_count": 27,
   "metadata": {},
   "outputs": [],
   "source": [
    "clf = RandomForestClassifier(n_estimators=100, random_state=0)"
   ]
  },
  {
   "cell_type": "code",
   "execution_count": 28,
   "metadata": {},
   "outputs": [],
   "source": [
    "def split(dataframe, split = 0.7, seed=0):\n",
    "    np.random.seed(seed)\n",
    "    rand = np.random.rand(len(data_df)) < split\n",
    "    \n",
    "    train = dataframe[rand]\n",
    "    test = dataframe[~rand]\n",
    "    \n",
    "    return train, test"
   ]
  },
  {
   "cell_type": "code",
   "execution_count": 29,
   "metadata": {},
   "outputs": [],
   "source": [
    "#reading sensor data into data frame.\n",
    "path = 'fitting_data.csv'\n",
    "data_df = pd.read_csv(path)\n",
    "\n",
    "train, test = split(data_df, seed=0, split=0.7)\n",
    "\n",
    "X_train = train.iloc[:,0:11]\n",
    "y_train = train.iloc[:,11]\n",
    "\n",
    "X_test = test.iloc[:,0:11]\n",
    "y_test = test.iloc[:,11]\n"
   ]
  },
  {
   "cell_type": "code",
   "execution_count": 30,
   "metadata": {},
   "outputs": [
    {
     "data": {
      "text/plain": [
       "RandomForestClassifier(random_state=0)"
      ]
     },
     "execution_count": 30,
     "metadata": {},
     "output_type": "execute_result"
    }
   ],
   "source": [
    "clf.fit(X_train, y_train)"
   ]
  },
  {
   "cell_type": "code",
   "execution_count": 31,
   "metadata": {},
   "outputs": [],
   "source": [
    "y_pred = clf.predict(X_test)"
   ]
  },
  {
   "cell_type": "code",
   "execution_count": 32,
   "metadata": {},
   "outputs": [
    {
     "name": "stdout",
     "output_type": "stream",
     "text": [
      "Training score: 100.0%, test score: 100.0%\n"
     ]
    },
    {
     "data": {
      "image/png": "[encoded data removed]",
      "text/plain": [
       "<Figure size 432x288 with 2 Axes>"
      ]
     },
     "metadata": {
      "needs_background": "light"
     },
     "output_type": "display_data"
    }
   ],
   "source": [
    "sk.metrics.plot_confusion_matrix(clf, X_test, y_test, labels=['Water', 'Fluid1', 'Fluid2'])\n",
    "\n",
    "#sk.metrics.confusion_matrix(y_val, y_pred, labels=[1,2,3])\n",
    "score_train = clf.score(X_train, y_train)\n",
    "score_test = clf.score(X_test, y_test)\n",
    "\n",
    "print(f'Training score: {round(score_train,2)*100}%, test score: {round(score_test,2)*100}%')"
   ]
  },
  {
   "cell_type": "code",
   "execution_count": 33,
   "metadata": {},
   "outputs": [],
   "source": [
    "rf_small = RandomForestClassifier(n_estimators=10, max_depth = 3)\n",
    "rf_small.fit(X_train, y_train)\n",
    "# Extract the small tree\n",
    "tree_small = rf_small.estimators_[5]\n",
    "# Save the tree as a png image\n",
    "export_graphviz(tree_small, out_file = 'small_tree.dot', rounded = True, )\n",
    "(graph, ) = pydot.graph_from_dot_file('small_tree.dot')\n"
   ]
  }
 ],
 "metadata": {
  "kernelspec": {
   "display_name": "Python 3",
   "language": "python",
   "name": "python3"
  },
  "language_info": {
   "codemirror_mode": {
    "name": "ipython",
    "version": 3
   },
   "file_extension": ".py",
   "mimetype": "text/x-python",
   "name": "python",
   "nbconvert_exporter": "python",
   "pygments_lexer": "ipython3",
   "version": "3.7.1"
  }
 },
 "nbformat": 4,
 "nbformat_minor": 4
}
